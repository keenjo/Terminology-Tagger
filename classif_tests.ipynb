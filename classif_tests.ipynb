{
 "cells": [
  {
   "cell_type": "markdown",
   "metadata": {},
   "source": [
    "# MLP Terminology Tagger"
   ]
  },
  {
   "cell_type": "code",
   "execution_count": 1,
   "metadata": {},
   "outputs": [],
   "source": [
    "import os\n",
    "import random\n",
    "import numpy as np\n",
    "import torch \n",
    "import torchvision\n",
    "import torchvision.transforms as transforms\n",
    "import torch.nn as nn\n",
    "from sklearn.ensemble import RandomForestClassifier\n",
    "from sklearn.metrics import precision_recall_fscore_support\n",
    "import matplotlib.pyplot as plt\n",
    "from skimage import io, transform\n",
    "from torch.utils.data import DataLoader, random_split, Subset, WeightedRandomSampler\n",
    "import copy\n",
    "from tqdm import tqdm\n",
    "from preprocessing import TermsDataset"
   ]
  },
  {
   "cell_type": "code",
   "execution_count": 2,
   "metadata": {},
   "outputs": [],
   "source": [
    "directory = 'terminology-project-2022/' # Path to the annotated terminology project data\n",
    "#vocab_path = '/Users/josephkeenan/Desktop/'\n",
    "\n",
    "#split = 'train' # train, test, or dev\n",
    "train_data = TermsDataset(directory, 'train', one_hot=True)\n",
    "test_data = TermsDataset(directory, 'test', one_hot=True)\n",
    "dev_data = TermsDataset(directory, 'dev', one_hot=True)"
   ]
  },
  {
   "cell_type": "code",
   "execution_count": 3,
   "metadata": {
    "scrolled": true
   },
   "outputs": [],
   "source": [
    "train_split = list(zip(*train_data))\n",
    "test_split = list(zip(*test_data))\n",
    "dev_split = list(zip(*dev_data))"
   ]
  },
  {
   "cell_type": "code",
   "execution_count": 4,
   "metadata": {},
   "outputs": [],
   "source": [
    "train_i = train_split[0]\n",
    "train_labels = train_split[1]\n",
    "train_labels = [int(label) for label in train_labels]\n",
    "\n",
    "test_i = test_split[0]\n",
    "test_labels = test_split[1]\n",
    "test_labels = [int(label) for label in test_labels]\n",
    "\n",
    "dev_i = dev_split[0]\n",
    "dev_labels = dev_split[1]\n",
    "dev_labels = [int(label) for label in dev_labels]"
   ]
  },
  {
   "cell_type": "code",
   "execution_count": 5,
   "metadata": {},
   "outputs": [],
   "source": [
    "train_labels_unique, train_count = np.unique(train_labels, return_counts=True)\n",
    "test_labels_unique, test_count = np.unique(test_labels, return_counts=True)\n",
    "dev_labels_unique, dev_count = np.unique(dev_labels, return_counts=True)"
   ]
  },
  {
   "cell_type": "code",
   "execution_count": 6,
   "metadata": {
    "scrolled": true
   },
   "outputs": [
    {
     "name": "stdout",
     "output_type": "stream",
     "text": [
      "[ 2615  2860 16017]\n",
      "[ 328  388 2056]\n",
      "[ 285  290 1832]\n"
     ]
    }
   ],
   "source": [
    "print(train_count)\n",
    "print(test_count)\n",
    "print(dev_count)"
   ]
  },
  {
   "cell_type": "code",
   "execution_count": 7,
   "metadata": {
    "scrolled": true
   },
   "outputs": [
    {
     "name": "stdout",
     "output_type": "stream",
     "text": [
      "[8.218738049713194, 7.514685314685314, 1.3418243116688517]\n",
      "[8.451219512195122, 7.144329896907217, 1.3482490272373542]\n",
      "[8.445614035087718, 8.3, 1.3138646288209608]\n"
     ]
    }
   ],
   "source": [
    "train_class_weights = [sum(train_count)/c for c in train_count]\n",
    "print(train_class_weights)\n",
    "\n",
    "test_class_weights = [sum(test_count)/c for c in test_count]\n",
    "print(test_class_weights)\n",
    "\n",
    "dev_class_weights = [sum(dev_count)/c for c in dev_count]\n",
    "print(dev_class_weights)"
   ]
  },
  {
   "cell_type": "code",
   "execution_count": 8,
   "metadata": {},
   "outputs": [],
   "source": [
    "train_weights = [train_class_weights[e] for e in train_labels]\n",
    "test_weights = [test_class_weights[e] for e in test_labels]\n",
    "dev_weights = [dev_class_weights[e] for e in dev_labels]"
   ]
  },
  {
   "cell_type": "code",
   "execution_count": 9,
   "metadata": {},
   "outputs": [],
   "source": [
    "train_sampler = WeightedRandomSampler(train_weights, len(train_labels))\n",
    "test_sampler = WeightedRandomSampler(test_weights, len(test_labels))\n",
    "dev_sampler = WeightedRandomSampler(dev_weights, len(dev_labels))"
   ]
  },
  {
   "cell_type": "code",
   "execution_count": 10,
   "metadata": {
    "scrolled": true
   },
   "outputs": [
    {
     "name": "stdout",
     "output_type": "stream",
     "text": [
      "torch.Size([3, 8691])\n",
      "torch.Size([3])\n",
      "torch.FloatTensor\n",
      "torch.LongTensor\n"
     ]
    }
   ],
   "source": [
    "# Testing to make sure data works with DataLoader\n",
    "\n",
    "train_dataloader = DataLoader(train_data, sampler=train_sampler, batch_size=3)\n",
    "test_dataloader = DataLoader(test_data, sampler=test_sampler, batch_size=3)\n",
    "dev_dataloader = DataLoader(dev_data, sampler=dev_sampler, batch_size=3)\n",
    "batch_data, batch_name = next(iter(train_dataloader))\n",
    "print(batch_data.shape)\n",
    "print(batch_name.shape)\n",
    "print(batch_data.type())\n",
    "print(batch_name.type())"
   ]
  },
  {
   "cell_type": "code",
   "execution_count": 11,
   "metadata": {},
   "outputs": [
    {
     "name": "stdout",
     "output_type": "stream",
     "text": [
      "[tensor([[0., 0., 0.,  ..., 0., 0., 0.],\n",
      "        [0., 0., 0.,  ..., 0., 0., 0.],\n",
      "        [0., 0., 0.,  ..., 0., 0., 0.]]), tensor([1, 0, 0])]\n"
     ]
    }
   ],
   "source": [
    "print(next(iter(train_dataloader)))"
   ]
  },
  {
   "cell_type": "code",
   "execution_count": 12,
   "metadata": {},
   "outputs": [
    {
     "name": "stdout",
     "output_type": "stream",
     "text": [
      "input size: 8691\n"
     ]
    }
   ],
   "source": [
    "input_size = batch_data.shape[1]\n",
    "num_classes = 3\n",
    "print(f'input size: {input_size}')"
   ]
  },
  {
   "cell_type": "code",
   "execution_count": 13,
   "metadata": {},
   "outputs": [],
   "source": [
    "class MLPClassif(nn.Module):\n",
    "    def __init__(self, input_size, hidden_size1, output_size, act_fn):\n",
    "        super(MLPClassif, self).__init__()\n",
    "                \n",
    "        self.input_layer = nn.Sequential(nn.Linear(input_size, hidden_size),\n",
    "                                         act_fn,\n",
    "                                         nn.BatchNorm1d(num_features=hidden_size))\n",
    "        self.hidden_layer = nn.Sequential(nn.Linear(hidden_size, hidden_size),\n",
    "                                          act_fn,\n",
    "                                          nn.BatchNorm1d(num_features=hidden_size))\n",
    "        self.output_layer = nn.Sequential(nn.Linear(hidden_size, output_size))\n",
    "    \n",
    "    def forward(self, x):\n",
    "        y = self.input_layer(x)\n",
    "        z = self.hidden_layer(y)\n",
    "        out = self.output_layer(z)\n",
    "        \n",
    "        return out"
   ]
  },
  {
   "cell_type": "code",
   "execution_count": 14,
   "metadata": {},
   "outputs": [],
   "source": [
    "def init_weights(m):\n",
    "    if isinstance(m, nn.Linear):\n",
    "        torch.nn.init.xavier_uniform_(m.weight.data)\n",
    "        m.bias.data.fill_(0.01)"
   ]
  },
  {
   "cell_type": "code",
   "execution_count": 15,
   "metadata": {},
   "outputs": [],
   "source": [
    "def training_mlp_classifier(model, train_dataloader, val_dataloader, num_epochs, loss_fn, learning_rate, verbose=True):\n",
    "\n",
    "    model_tr = copy.deepcopy(model)\n",
    "    \n",
    "    model_tr.train()\n",
    "    \n",
    "    optimizer = torch.optim.SGD(model_tr.parameters(), lr=learning_rate)\n",
    "    \n",
    "    loss_all_epochs = []\n",
    "    accuracy_all_epochs = []\n",
    "    val_loss_all_epochs = []\n",
    "    \n",
    "    # Training loop\n",
    "    for epoch in range(num_epochs):\n",
    "        # Initialize the training loss for the current epoch\n",
    "        loss_current_epoch = 0\n",
    "        \n",
    "        for batch_index, (text, labels) in tqdm(enumerate(train_dataloader), desc=f'Training Loop Epoch {epoch+1}'):\n",
    "            \n",
    "            y_pred = model_tr.forward(text)\n",
    "            loss = loss_fn(y_pred, labels)\n",
    "            \n",
    "            optimizer.zero_grad()\n",
    "            loss.backward()\n",
    "            optimizer.step()\n",
    "            \n",
    "            loss_current_epoch += loss.item()\n",
    "        \n",
    "        # Checking validation accuracy at each epoch\n",
    "        accuracy, B_acc, I_acc, O_acc, val_loss, total_preds_list, total_labels_list = eval_mlp_classifier(model_tr, val_dataloader, loss_fn)\n",
    "        print(f'Accuracy Epoch {epoch+1}: {accuracy}')\n",
    "        print(f'Validation Loss: {val_loss}')\n",
    "        \n",
    "        # Early stopping implementation\n",
    "        if accuracy_all_epochs != []:\n",
    "            if accuracy > max(accuracy_all_epochs):\n",
    "                torch.save(model_tr.state_dict(), 'models/model_MLP_classif.pt')\n",
    "                print(f'-----> Old Best Accuracy: {max(accuracy_all_epochs)}')\n",
    "                print(f'-----> Current Best Accuracy: {accuracy}')\n",
    "\n",
    "        accuracy_all_epochs.append(accuracy)\n",
    "        val_loss_all_epochs.append(val_loss)\n",
    "\n",
    "        loss_all_epochs.append(loss_current_epoch / (batch_index + 1))\n",
    "        if verbose:\n",
    "            print('Epoch [{}/{}], Loss: {:.4f}'.format(epoch+1, num_epochs, loss_current_epoch/(batch_index + 1)))\n",
    "        \n",
    "    return model_tr, loss_all_epochs, accuracy_all_epochs, val_loss_all_epochs"
   ]
  },
  {
   "cell_type": "code",
   "execution_count": 16,
   "metadata": {},
   "outputs": [],
   "source": [
    "def eval_mlp_classifier(model, eval_dataloader, loss_fn):\n",
    "    \n",
    "    model.eval() \n",
    "\n",
    "    with torch.no_grad():\n",
    "        correct_labels = 0\n",
    "        total_labels = 0\n",
    "        total_loss = 0\n",
    "        I_total = 0\n",
    "        I_correct = 0\n",
    "        O_total = 0\n",
    "        O_correct = 0\n",
    "        B_total = 0\n",
    "        B_correct = 0\n",
    "        \n",
    "        total_preds_list = []\n",
    "        total_labels_list = []\n",
    "        \n",
    "        for text, labels in eval_dataloader:\n",
    "\n",
    "            y_predicted = model(text)\n",
    "\n",
    "            loss = loss_fn(y_predicted, labels)\n",
    "            \n",
    "            total_loss += loss.item()\n",
    "            \n",
    "            _, label_predicted = torch.max(y_predicted.data, 1)\n",
    "            \n",
    "            total_labels += labels.size(0)\n",
    "            \n",
    "            total_preds_list.append(y_predicted)\n",
    "            total_labels_list.append(labels)\n",
    "            #print(f'Preds: {label_predicted}')\n",
    "            #print(labels)\n",
    "            correct_labels += (label_predicted == labels).sum().item()\n",
    "            for index, lab in enumerate(labels):\n",
    "                if lab == 0:\n",
    "                    B_total += 1\n",
    "                    if lab == label_predicted[index]:\n",
    "                        B_correct += 1\n",
    "                elif lab == 1:\n",
    "                    I_total += 1\n",
    "                    if lab == label_predicted[index]:\n",
    "                        I_correct += 1\n",
    "                elif lab == 2:\n",
    "                    O_total += 1\n",
    "                    if lab == label_predicted[index]:\n",
    "                        O_correct += 1\n",
    "                    \n",
    "            \n",
    "    accuracy = 100 * correct_labels / total_labels\n",
    "    B_acc = 100 * B_correct / B_total\n",
    "    I_acc = 100 * I_correct / I_total\n",
    "    O_acc = 100 * O_correct / O_total\n",
    "    final_loss = total_loss/total_labels\n",
    "    \n",
    "    return accuracy, B_acc, I_acc, O_acc, final_loss, total_preds_list, total_labels_list"
   ]
  },
  {
   "cell_type": "code",
   "execution_count": 17,
   "metadata": {
    "scrolled": true
   },
   "outputs": [
    {
     "name": "stdout",
     "output_type": "stream",
     "text": [
      "Total number of parameters: 279427\n"
     ]
    },
    {
     "name": "stderr",
     "output_type": "stream",
     "text": [
      "Training Loop Epoch 1: 7164it [00:06, 1155.09it/s]\n"
     ]
    },
    {
     "name": "stdout",
     "output_type": "stream",
     "text": [
      "Accuracy Epoch 1: 76.31906938097217\n",
      "Validation Loss: 0.21705223075770025\n",
      "Epoch [1/10], Loss: 0.8459\n"
     ]
    },
    {
     "name": "stderr",
     "output_type": "stream",
     "text": [
      "Training Loop Epoch 2: 7164it [00:04, 1638.81it/s]\n"
     ]
    },
    {
     "name": "stdout",
     "output_type": "stream",
     "text": [
      "Accuracy Epoch 2: 81.1383464894059\n",
      "Validation Loss: 0.18694248932837823\n",
      "-----> Old Best Accuracy: 76.31906938097217\n",
      "-----> Current Best Accuracy: 81.1383464894059\n",
      "Epoch [2/10], Loss: 0.4817\n"
     ]
    },
    {
     "name": "stderr",
     "output_type": "stream",
     "text": [
      "Training Loop Epoch 3: 7164it [00:04, 1642.58it/s]\n"
     ]
    },
    {
     "name": "stdout",
     "output_type": "stream",
     "text": [
      "Accuracy Epoch 3: 80.88907353552139\n",
      "Validation Loss: 0.1944167205073732\n",
      "Epoch [3/10], Loss: 0.3943\n"
     ]
    },
    {
     "name": "stderr",
     "output_type": "stream",
     "text": [
      "Training Loop Epoch 4: 7164it [00:04, 1640.20it/s]\n"
     ]
    },
    {
     "name": "stdout",
     "output_type": "stream",
     "text": [
      "Accuracy Epoch 4: 82.71707519734109\n",
      "Validation Loss: 0.181798000553464\n",
      "-----> Old Best Accuracy: 81.1383464894059\n",
      "-----> Current Best Accuracy: 82.71707519734109\n",
      "Epoch [4/10], Loss: 0.3325\n"
     ]
    },
    {
     "name": "stderr",
     "output_type": "stream",
     "text": [
      "Training Loop Epoch 5: 7164it [00:04, 1661.68it/s]\n"
     ]
    },
    {
     "name": "stdout",
     "output_type": "stream",
     "text": [
      "Accuracy Epoch 5: 84.46198587453262\n",
      "Validation Loss: 0.18542448629374253\n",
      "-----> Old Best Accuracy: 82.71707519734109\n",
      "-----> Current Best Accuracy: 84.46198587453262\n",
      "Epoch [5/10], Loss: 0.2837\n"
     ]
    },
    {
     "name": "stderr",
     "output_type": "stream",
     "text": [
      "Training Loop Epoch 6: 7164it [00:04, 1656.30it/s]\n"
     ]
    },
    {
     "name": "stdout",
     "output_type": "stream",
     "text": [
      "Accuracy Epoch 6: 82.05234732031575\n",
      "Validation Loss: 0.1961047864995168\n",
      "Epoch [6/10], Loss: 0.2687\n"
     ]
    },
    {
     "name": "stderr",
     "output_type": "stream",
     "text": [
      "Training Loop Epoch 7: 7164it [00:04, 1656.87it/s]\n"
     ]
    },
    {
     "name": "stdout",
     "output_type": "stream",
     "text": [
      "Accuracy Epoch 7: 81.47071042791858\n",
      "Validation Loss: 0.21997630640978158\n",
      "Epoch [7/10], Loss: 0.2347\n"
     ]
    },
    {
     "name": "stderr",
     "output_type": "stream",
     "text": [
      "Training Loop Epoch 8: 7164it [00:04, 1664.12it/s]\n"
     ]
    },
    {
     "name": "stdout",
     "output_type": "stream",
     "text": [
      "Accuracy Epoch 8: 79.0610718737017\n",
      "Validation Loss: 0.23647837617137984\n",
      "Epoch [8/10], Loss: 0.2173\n"
     ]
    },
    {
     "name": "stderr",
     "output_type": "stream",
     "text": [
      "Training Loop Epoch 9: 7164it [00:04, 1654.94it/s]\n"
     ]
    },
    {
     "name": "stdout",
     "output_type": "stream",
     "text": [
      "Accuracy Epoch 9: 83.79725799750727\n",
      "Validation Loss: 0.20984285457931354\n",
      "Epoch [9/10], Loss: 0.1957\n"
     ]
    },
    {
     "name": "stderr",
     "output_type": "stream",
     "text": [
      "Training Loop Epoch 10: 7164it [00:04, 1661.99it/s]\n"
     ]
    },
    {
     "name": "stdout",
     "output_type": "stream",
     "text": [
      "Accuracy Epoch 10: 83.58953053593685\n",
      "Validation Loss: 0.21146044953932663\n",
      "Epoch [10/10], Loss: 0.1824\n"
     ]
    }
   ],
   "source": [
    "hidden_size = 32\n",
    "\n",
    "model = MLPClassif(input_size, hidden_size, num_classes, nn.ReLU())\n",
    "torch.manual_seed(0)\n",
    "model.apply(init_weights)\n",
    "\n",
    "print('Total number of parameters:', sum(p.numel() for p in model.parameters()))\n",
    "\n",
    "num_epochs= 10\n",
    "lr = 0.01\n",
    "loss_fn = nn.CrossEntropyLoss()\n",
    "\n",
    "model_tr, loss_all_epochs, accuracy_all_epochs, val_loss_all_epochs = training_mlp_classifier(model, train_dataloader, dev_dataloader,\n",
    "                                                    num_epochs, loss_fn, lr)\n",
    "\n",
    "#torch.save(model_tr.state_dict(), 'model_mlp_classif_trained.pt')"
   ]
  },
  {
   "cell_type": "code",
   "execution_count": 18,
   "metadata": {
    "scrolled": false
   },
   "outputs": [
    {
     "name": "stderr",
     "output_type": "stream",
     "text": [
      "No artists with labels found to put in legend.  Note that artists whose label start with an underscore are ignored when legend() is called with no argument.\n"
     ]
    },
    {
     "data": {
      "image/png": "[encoded data removed]",
      "text/plain": [
       "<Figure size 640x480 with 1 Axes>"
      ]
     },
     "metadata": {},
     "output_type": "display_data"
    }
   ],
   "source": [
    "plt.figure()\n",
    "plt.plot(loss_all_epochs, 'red')\n",
    "plt.plot(val_loss_all_epochs, 'blue')\n",
    "plt.xlabel('epochs'), plt.ylabel('loss')\n",
    "plt.title('Training & Validation Loss of IOB MLP')\n",
    "plt.legend()\n",
    "#plt.savefig('/Users/josephkeenan/Desktop/UE901/DNN/Labs/lab3/sig_loss.png')\n",
    "plt.show()"
   ]
  },
  {
   "cell_type": "code",
   "execution_count": 19,
   "metadata": {
    "scrolled": true
   },
   "outputs": [
    {
     "name": "stdout",
     "output_type": "stream",
     "text": [
      "Test Accuracy: 87.554%\n",
      "B Accuracy: 86.882%\n",
      "I Accuracy: 90.162%\n",
      "O Accuracy: 85.605%\n",
      "\n",
      "Precision\n",
      "B: 0.854122621564482\n",
      "I: 0.8688172043010752\n",
      "O: 0.861407249466951\n",
      "\n",
      "Recall\n",
      "B: 0.9035752979414952\n",
      "I: 0.9016216216216216\n",
      "O: 0.9025974025974026\n",
      "\n",
      "F1-score\n",
      "B: 0.8693244739756367\n",
      "I: 0.8560523446019629\n",
      "O: 0.8626373626373626\n",
      "\n"
     ]
    }
   ],
   "source": [
    "# TO DO: Evaluate the model on the test set:\n",
    "# - Instanciate an MLP newtork and load the trained parameters\n",
    "# - Apply the evaluation function using the test dataloader\n",
    "# - Print the test accuracy\n",
    "model_trained = MLPClassif(input_size, hidden_size, num_classes, nn.ReLU())\n",
    "\n",
    "model_trained.load_state_dict(torch.load('models/model_MLP_classif.pt'))\n",
    "\n",
    "accuracy, B_acc, I_acc, O_acc, test_loss, total_preds, total_labels = eval_mlp_classifier(model_trained, test_dataloader, loss_fn)\n",
    "print(f'Test Accuracy: {accuracy:.3f}%')\n",
    "print(f'B Accuracy: {B_acc:.3f}%')\n",
    "print(f'I Accuracy: {I_acc:.3f}%')\n",
    "print(f'O Accuracy: {O_acc:.3f}%\\n')\n",
    "\n",
    "\n",
    "# Converting predictions and labels to lists so we can run them through sklearn precision_recall_fscore_support\n",
    "total_preds2 = []\n",
    "total_labels2 = []\n",
    "\n",
    "for batch in total_preds:\n",
    "    for item in batch:\n",
    "        item = item.tolist()\n",
    "        total_preds2.append(int(item.index(max(item))))\n",
    "        \n",
    "for batch in total_labels:\n",
    "    for item in batch:\n",
    "        total_labels2.append(int(item))\n",
    "\n",
    "        \n",
    "# Precision, Recall, and F1 Score for MLP Classifier\n",
    "precision, recall, f1, support = precision_recall_fscore_support(total_labels2, total_preds2)\n",
    "\n",
    "for index, (b, i, o) in enumerate(zip(precision, recall, f1)):\n",
    "    if index == 0:\n",
    "        print('Precision')\n",
    "    elif index == 1:\n",
    "        print('Recall')\n",
    "    else:\n",
    "        print('F1-score')\n",
    "    print(f'B: {b}')\n",
    "    print(f'I: {i}')\n",
    "    print(f'O: {o}\\n')"
   ]
  },
  {
   "cell_type": "markdown",
   "metadata": {},
   "source": [
    "## Baseline Random Forest Classifier"
   ]
  },
  {
   "cell_type": "code",
   "execution_count": 20,
   "metadata": {},
   "outputs": [],
   "source": [
    "train_data, train_labels = train_split\n",
    "train_data = [np.array(x) for x in train_data]\n",
    "train_labels = [np.array(x) for x in train_labels]\n",
    "\n",
    "test_data, test_labels = test_split\n",
    "test_data = [np.array(x) for x in test_data]\n",
    "test_labels = [np.array(x) for x in test_labels]"
   ]
  },
  {
   "cell_type": "code",
   "execution_count": 21,
   "metadata": {},
   "outputs": [
    {
     "data": {
      "text/html": [
       "<style>#sk-container-id-1 {color: black;background-color: white;}#sk-container-id-1 pre{padding: 0;}#sk-container-id-1 div.sk-toggleable {background-color: white;}#sk-container-id-1 label.sk-toggleable__label {cursor: pointer;display: block;width: 100%;margin-bottom: 0;padding: 0.3em;box-sizing: border-box;text-align: center;}#sk-container-id-1 label.sk-toggleable__label-arrow:before {content: \"▸\";float: left;margin-right: 0.25em;color: #696969;}#sk-container-id-1 label.sk-toggleable__label-arrow:hover:before {color: black;}#sk-container-id-1 div.sk-estimator:hover label.sk-toggleable__label-arrow:before {color: black;}#sk-container-id-1 div.sk-toggleable__content {max-height: 0;max-width: 0;overflow: hidden;text-align: left;background-color: #f0f8ff;}#sk-container-id-1 div.sk-toggleable__content pre {margin: 0.2em;color: black;border-radius: 0.25em;background-color: #f0f8ff;}#sk-container-id-1 input.sk-toggleable__control:checked~div.sk-toggleable__content {max-height: 200px;max-width: 100%;overflow: auto;}#sk-container-id-1 input.sk-toggleable__control:checked~label.sk-toggleable__label-arrow:before {content: \"▾\";}#sk-container-id-1 div.sk-estimator input.sk-toggleable__control:checked~label.sk-toggleable__label {background-color: #d4ebff;}#sk-container-id-1 div.sk-label input.sk-toggleable__control:checked~label.sk-toggleable__label {background-color: #d4ebff;}#sk-container-id-1 input.sk-hidden--visually {border: 0;clip: rect(1px 1px 1px 1px);clip: rect(1px, 1px, 1px, 1px);height: 1px;margin: -1px;overflow: hidden;padding: 0;position: absolute;width: 1px;}#sk-container-id-1 div.sk-estimator {font-family: monospace;background-color: #f0f8ff;border: 1px dotted black;border-radius: 0.25em;box-sizing: border-box;margin-bottom: 0.5em;}#sk-container-id-1 div.sk-estimator:hover {background-color: #d4ebff;}#sk-container-id-1 div.sk-parallel-item::after {content: \"\";width: 100%;border-bottom: 1px solid gray;flex-grow: 1;}#sk-container-id-1 div.sk-label:hover label.sk-toggleable__label {background-color: #d4ebff;}#sk-container-id-1 div.sk-serial::before {content: \"\";position: absolute;border-left: 1px solid gray;box-sizing: border-box;top: 0;bottom: 0;left: 50%;z-index: 0;}#sk-container-id-1 div.sk-serial {display: flex;flex-direction: column;align-items: center;background-color: white;padding-right: 0.2em;padding-left: 0.2em;position: relative;}#sk-container-id-1 div.sk-item {position: relative;z-index: 1;}#sk-container-id-1 div.sk-parallel {display: flex;align-items: stretch;justify-content: center;background-color: white;position: relative;}#sk-container-id-1 div.sk-item::before, #sk-container-id-1 div.sk-parallel-item::before {content: \"\";position: absolute;border-left: 1px solid gray;box-sizing: border-box;top: 0;bottom: 0;left: 50%;z-index: -1;}#sk-container-id-1 div.sk-parallel-item {display: flex;flex-direction: column;z-index: 1;position: relative;background-color: white;}#sk-container-id-1 div.sk-parallel-item:first-child::after {align-self: flex-end;width: 50%;}#sk-container-id-1 div.sk-parallel-item:last-child::after {align-self: flex-start;width: 50%;}#sk-container-id-1 div.sk-parallel-item:only-child::after {width: 0;}#sk-container-id-1 div.sk-dashed-wrapped {border: 1px dashed gray;margin: 0 0.4em 0.5em 0.4em;box-sizing: border-box;padding-bottom: 0.4em;background-color: white;}#sk-container-id-1 div.sk-label label {font-family: monospace;font-weight: bold;display: inline-block;line-height: 1.2em;}#sk-container-id-1 div.sk-label-container {text-align: center;}#sk-container-id-1 div.sk-container {/* jupyter's `normalize.less` sets `[hidden] { display: none; }` but bootstrap.min.css set `[hidden] { display: none !important; }` so we also need the `!important` here to be able to override the default hidden behavior on the sphinx rendered scikit-learn.org. See: https://github.com/scikit-learn/scikit-learn/issues/21755 */display: inline-block !important;position: relative;}#sk-container-id-1 div.sk-text-repr-fallback {display: none;}</style><div id=\"sk-container-id-1\" class=\"sk-top-container\"><div class=\"sk-text-repr-fallback\"><pre>RandomForestClassifier()</pre><b>In a Jupyter environment, please rerun this cell to show the HTML representation or trust the notebook. <br />On GitHub, the HTML representation is unable to render, please try loading this page with nbviewer.org.</b></div><div class=\"sk-container\" hidden><div class=\"sk-item\"><div class=\"sk-estimator sk-toggleable\"><input class=\"sk-toggleable__control sk-hidden--visually\" id=\"sk-estimator-id-1\" type=\"checkbox\" checked><label for=\"sk-estimator-id-1\" class=\"sk-toggleable__label sk-toggleable__label-arrow\">RandomForestClassifier</label><div class=\"sk-toggleable__content\"><pre>RandomForestClassifier()</pre></div></div></div></div></div>"
      ],
      "text/plain": [
       "RandomForestClassifier()"
      ]
     },
     "execution_count": 21,
     "metadata": {},
     "output_type": "execute_result"
    }
   ],
   "source": [
    "crf_classifier = RandomForestClassifier()\n",
    "crf_classifier.fit(train_data, train_labels)"
   ]
  },
  {
   "cell_type": "code",
   "execution_count": 22,
   "metadata": {},
   "outputs": [
    {
     "name": "stdout",
     "output_type": "stream",
     "text": [
      "Overall Accuracy: 0.8773448773448773\n",
      "\n",
      "Precision\n",
      "B: 0.7555555555555555\n",
      "I: 0.5182926829268293\n",
      "O: 0.6148282097649187\n",
      "\n",
      "Recall\n",
      "B: 0.8015873015873016\n",
      "I: 0.7809278350515464\n",
      "O: 0.7911227154046997\n",
      "\n",
      "F1-score\n",
      "B: 0.9031811894882434\n",
      "I: 0.9528210116731517\n",
      "O: 0.9273372781065088\n",
      "\n"
     ]
    }
   ],
   "source": [
    "crf_scores = crf_classifier.score(test_data, test_labels)\n",
    "preds = crf_classifier.predict(test_data)\n",
    "precision, recall, f1, support = precision_recall_fscore_support(test_labels, preds)\n",
    "\n",
    "print(f'Overall Accuracy: {crf_scores}\\n')\n",
    "for index, (b, i, o) in enumerate(zip(precision, recall, f1)):\n",
    "    if index == 0:\n",
    "        print('Precision')\n",
    "    elif index == 1:\n",
    "        print('Recall')\n",
    "    else:\n",
    "        print('F1-score')\n",
    "    print(f'B: {b}')\n",
    "    print(f'I: {i}')\n",
    "    print(f'O: {o}\\n')"
   ]
  }
 ],
 "metadata": {
  "kernelspec": {
   "display_name": "Python [conda env:nn_labs]",
   "language": "python",
   "name": "conda-env-nn_labs-py"
  },
  "language_info": {
   "codemirror_mode": {
    "name": "ipython",
    "version": 3
   },
   "file_extension": ".py",
   "mimetype": "text/x-python",
   "name": "python",
   "nbconvert_exporter": "python",
   "pygments_lexer": "ipython3",
   "version": "3.8.13"
  }
 },
 "nbformat": 4,
 "nbformat_minor": 4
}
